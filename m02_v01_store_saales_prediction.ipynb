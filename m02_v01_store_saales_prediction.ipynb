{
 "cells": [
  {
   "cell_type": "markdown",
   "id": "e7cf08c6",
   "metadata": {},
   "source": [
    "## IMPORTS"
   ]
  },
  {
   "cell_type": "code",
   "execution_count": 83,
   "id": "17910174",
   "metadata": {
    "ExecuteTime": {
     "end_time": "2021-04-23T12:32:21.659669Z",
     "start_time": "2021-04-23T12:32:21.657181Z"
    }
   },
   "outputs": [],
   "source": [
    "import pandas as pd\n",
    "import inflection\n",
    "import math"
   ]
  },
  {
   "cell_type": "markdown",
   "id": "6907f29b",
   "metadata": {},
   "source": [
    "### Helper functions"
   ]
  },
  {
   "cell_type": "markdown",
   "id": "5c3d8e28",
   "metadata": {},
   "source": [
    "### Loading data"
   ]
  },
  {
   "cell_type": "code",
   "execution_count": 84,
   "id": "ff6d76f0",
   "metadata": {
    "ExecuteTime": {
     "end_time": "2021-04-23T12:32:23.828661Z",
     "start_time": "2021-04-23T12:32:23.062545Z"
    }
   },
   "outputs": [],
   "source": [
    "df_sales_raw=pd.read_csv('Datasets/train.csv', low_memory=False)\n",
    "df_store_raw=pd.read_csv('Datasets/store.csv', low_memory=False)\n",
    "\n",
    "# merge\n",
    "\n",
    "df_raw=pd.merge(df_sales_raw,df_store_raw, how='left', on='Store')"
   ]
  },
  {
   "cell_type": "code",
   "execution_count": 85,
   "id": "74bada48",
   "metadata": {
    "ExecuteTime": {
     "end_time": "2021-04-23T12:32:24.016690Z",
     "start_time": "2021-04-23T12:32:23.830051Z"
    }
   },
   "outputs": [
    {
     "data": {
      "text/html": [
       "<div>\n",
       "<style scoped>\n",
       "    .dataframe tbody tr th:only-of-type {\n",
       "        vertical-align: middle;\n",
       "    }\n",
       "\n",
       "    .dataframe tbody tr th {\n",
       "        vertical-align: top;\n",
       "    }\n",
       "\n",
       "    .dataframe thead th {\n",
       "        text-align: right;\n",
       "    }\n",
       "</style>\n",
       "<table border=\"1\" class=\"dataframe\">\n",
       "  <thead>\n",
       "    <tr style=\"text-align: right;\">\n",
       "      <th></th>\n",
       "      <th>Store</th>\n",
       "      <th>DayOfWeek</th>\n",
       "      <th>Date</th>\n",
       "      <th>Sales</th>\n",
       "      <th>Customers</th>\n",
       "      <th>Open</th>\n",
       "      <th>Promo</th>\n",
       "      <th>StateHoliday</th>\n",
       "      <th>SchoolHoliday</th>\n",
       "      <th>StoreType</th>\n",
       "      <th>Assortment</th>\n",
       "      <th>CompetitionDistance</th>\n",
       "      <th>CompetitionOpenSinceMonth</th>\n",
       "      <th>CompetitionOpenSinceYear</th>\n",
       "      <th>Promo2</th>\n",
       "      <th>Promo2SinceWeek</th>\n",
       "      <th>Promo2SinceYear</th>\n",
       "      <th>PromoInterval</th>\n",
       "    </tr>\n",
       "  </thead>\n",
       "  <tbody>\n",
       "    <tr>\n",
       "      <th>167777</th>\n",
       "      <td>528</td>\n",
       "      <td>2</td>\n",
       "      <td>2015-03-03</td>\n",
       "      <td>14057</td>\n",
       "      <td>1066</td>\n",
       "      <td>1</td>\n",
       "      <td>1</td>\n",
       "      <td>0</td>\n",
       "      <td>0</td>\n",
       "      <td>a</td>\n",
       "      <td>c</td>\n",
       "      <td>20620.0</td>\n",
       "      <td>NaN</td>\n",
       "      <td>NaN</td>\n",
       "      <td>1</td>\n",
       "      <td>37.0</td>\n",
       "      <td>2009.0</td>\n",
       "      <td>Jan,Apr,Jul,Oct</td>\n",
       "    </tr>\n",
       "  </tbody>\n",
       "</table>\n",
       "</div>"
      ],
      "text/plain": [
       "        Store  DayOfWeek        Date  Sales  Customers  Open  Promo  \\\n",
       "167777    528          2  2015-03-03  14057       1066     1      1   \n",
       "\n",
       "       StateHoliday  SchoolHoliday StoreType Assortment  CompetitionDistance  \\\n",
       "167777            0              0         a          c              20620.0   \n",
       "\n",
       "        CompetitionOpenSinceMonth  CompetitionOpenSinceYear  Promo2  \\\n",
       "167777                        NaN                       NaN       1   \n",
       "\n",
       "        Promo2SinceWeek  Promo2SinceYear    PromoInterval  \n",
       "167777             37.0           2009.0  Jan,Apr,Jul,Oct  "
      ]
     },
     "execution_count": 85,
     "metadata": {},
     "output_type": "execute_result"
    }
   ],
   "source": [
    "df_raw.sample()"
   ]
  },
  {
   "cell_type": "markdown",
   "id": "c45ef68e",
   "metadata": {},
   "source": [
    "## DATA DESCRIPTION"
   ]
  },
  {
   "cell_type": "code",
   "execution_count": 86,
   "id": "0d91c90e",
   "metadata": {
    "ExecuteTime": {
     "end_time": "2021-04-23T12:32:24.674652Z",
     "start_time": "2021-04-23T12:32:24.588632Z"
    }
   },
   "outputs": [
    {
     "data": {
      "text/plain": [
       "Index(['Store', 'DayOfWeek', 'Date', 'Sales', 'Customers', 'Open', 'Promo',\n",
       "       'StateHoliday', 'SchoolHoliday', 'StoreType', 'Assortment',\n",
       "       'CompetitionDistance', 'CompetitionOpenSinceMonth',\n",
       "       'CompetitionOpenSinceYear', 'Promo2', 'Promo2SinceWeek',\n",
       "       'Promo2SinceYear', 'PromoInterval'],\n",
       "      dtype='object')"
      ]
     },
     "execution_count": 86,
     "metadata": {},
     "output_type": "execute_result"
    }
   ],
   "source": [
    "df1=df_raw.copy()\n",
    "df1.columns\n"
   ]
  },
  {
   "cell_type": "markdown",
   "id": "25898311",
   "metadata": {
    "ExecuteTime": {
     "end_time": "2021-04-23T10:30:26.362716Z",
     "start_time": "2021-04-23T10:30:26.356693Z"
    }
   },
   "source": [
    "### Rename columns"
   ]
  },
  {
   "cell_type": "code",
   "execution_count": 87,
   "id": "557f5636",
   "metadata": {
    "ExecuteTime": {
     "end_time": "2021-04-23T12:32:25.957041Z",
     "start_time": "2021-04-23T12:32:25.953693Z"
    }
   },
   "outputs": [],
   "source": [
    "cols_old=['Store', 'DayOfWeek', 'Date', 'Sales', 'Customers', 'Open', 'Promo',\n",
    "       'StateHoliday', 'SchoolHoliday', 'StoreType', 'Assortment',\n",
    "       'CompetitionDistance', 'CompetitionOpenSinceMonth',\n",
    "       'CompetitionOpenSinceYear', 'Promo2', 'Promo2SinceWeek',\n",
    "       'Promo2SinceYear', 'PromoInterval']\n",
    "\n",
    "snakecase=lambda x: inflection.underscore(x)\n",
    "\n",
    "cols_new=list(map(snakecase,cols_old))\n",
    "\n",
    "#rename \n",
    "df1.columns=cols_new"
   ]
  },
  {
   "cell_type": "markdown",
   "id": "5f3d21fa",
   "metadata": {
    "ExecuteTime": {
     "end_time": "2021-04-23T10:42:30.783745Z",
     "start_time": "2021-04-23T10:42:30.776041Z"
    }
   },
   "source": [
    "### Data dimensions"
   ]
  },
  {
   "cell_type": "code",
   "execution_count": 88,
   "id": "d180aedf",
   "metadata": {
    "ExecuteTime": {
     "end_time": "2021-04-23T12:32:27.244158Z",
     "start_time": "2021-04-23T12:32:27.240880Z"
    }
   },
   "outputs": [
    {
     "name": "stdout",
     "output_type": "stream",
     "text": [
      "Numbers of raw:1017209\n",
      "Numbers of cols:18\n"
     ]
    }
   ],
   "source": [
    "print('Numbers of raw:{}'.format(df1.shape[0]))\n",
    "print('Numbers of cols:{}'.format(df1.shape[1]))"
   ]
  },
  {
   "cell_type": "markdown",
   "id": "ddae77a1",
   "metadata": {},
   "source": [
    "### Data Type"
   ]
  },
  {
   "cell_type": "code",
   "execution_count": 89,
   "id": "e4e5b2b5",
   "metadata": {
    "ExecuteTime": {
     "end_time": "2021-04-23T12:32:29.454969Z",
     "start_time": "2021-04-23T12:32:29.339721Z"
    }
   },
   "outputs": [
    {
     "data": {
      "text/plain": [
       "store                                    int64\n",
       "day_of_week                              int64\n",
       "date                            datetime64[ns]\n",
       "sales                                    int64\n",
       "customers                                int64\n",
       "open                                     int64\n",
       "promo                                    int64\n",
       "state_holiday                           object\n",
       "school_holiday                           int64\n",
       "store_type                              object\n",
       "assortment                              object\n",
       "competition_distance                   float64\n",
       "competition_open_since_month           float64\n",
       "competition_open_since_year            float64\n",
       "promo2                                   int64\n",
       "promo2_since_week                      float64\n",
       "promo2_since_year                      float64\n",
       "promo_interval                          object\n",
       "dtype: object"
      ]
     },
     "execution_count": 89,
     "metadata": {},
     "output_type": "execute_result"
    }
   ],
   "source": [
    "df1['date']=pd.to_datetime(df1['date'])\n",
    "\n",
    "df1.dtypes\n"
   ]
  },
  {
   "cell_type": "markdown",
   "id": "d054eda3",
   "metadata": {},
   "source": [
    "### Check NA"
   ]
  },
  {
   "cell_type": "code",
   "execution_count": 90,
   "id": "9619966e",
   "metadata": {
    "ExecuteTime": {
     "end_time": "2021-04-23T12:32:31.073014Z",
     "start_time": "2021-04-23T12:32:30.892340Z"
    }
   },
   "outputs": [
    {
     "data": {
      "text/plain": [
       "store                                0\n",
       "day_of_week                          0\n",
       "date                                 0\n",
       "sales                                0\n",
       "customers                            0\n",
       "open                                 0\n",
       "promo                                0\n",
       "state_holiday                        0\n",
       "school_holiday                       0\n",
       "store_type                           0\n",
       "assortment                           0\n",
       "competition_distance              2642\n",
       "competition_open_since_month    323348\n",
       "competition_open_since_year     323348\n",
       "promo2                               0\n",
       "promo2_since_week               508031\n",
       "promo2_since_year               508031\n",
       "promo_interval                  508031\n",
       "dtype: int64"
      ]
     },
     "execution_count": 90,
     "metadata": {},
     "output_type": "execute_result"
    }
   ],
   "source": [
    "df1.isna().sum()"
   ]
  },
  {
   "cell_type": "markdown",
   "id": "5e1f61db",
   "metadata": {},
   "source": [
    "### Fillout NA"
   ]
  },
  {
   "cell_type": "code",
   "execution_count": 91,
   "id": "4b84f7f9",
   "metadata": {
    "ExecuteTime": {
     "end_time": "2021-04-23T12:32:32.593407Z",
     "start_time": "2021-04-23T12:32:32.579330Z"
    }
   },
   "outputs": [
    {
     "data": {
      "text/plain": [
       "75860.0"
      ]
     },
     "execution_count": 91,
     "metadata": {},
     "output_type": "execute_result"
    }
   ],
   "source": [
    "df1['competition_distance'].max()"
   ]
  },
  {
   "cell_type": "code",
   "execution_count": 95,
   "id": "8a96e30a",
   "metadata": {
    "ExecuteTime": {
     "end_time": "2021-04-23T12:36:19.813039Z",
     "start_time": "2021-04-23T12:35:11.416461Z"
    }
   },
   "outputs": [],
   "source": [
    "#competition_distance              \n",
    "df1['competition_distance']=df1['competition_distance'].apply(lambda x:200000.0 if math.isnan(x) else x)\n",
    "\n",
    "#competition_open_since_month  \n",
    "df1['competition_open_since_month']=df1.apply(lambda x: x['date'].month \n",
    "                                              if math.isnan(x['competition_open_since_month']) \n",
    "                                              else x['competition_open_since_month'], axis=1)\n",
    "\n",
    "#competition_open_since_year  \n",
    "df1['competition_open_since_year']=df1.apply(lambda x: x['date'].year \n",
    "                                              if math.isnan(x['competition_open_since_year']) \n",
    "                                              else x['competition_open_since_year'], axis=1)\n",
    "\n",
    "#promo2_since_week  \n",
    "df1['promo2_since_week']=df1.apply(lambda x: x['date'].week \n",
    "                                              if math.isnan(x['promo2_since_week']) \n",
    "                                              else x['promo2_since_week'], axis=1)\n",
    "#promo2_since_year \n",
    "df1['promo2_since_year']=df1.apply(lambda x: x['date'].year \n",
    "                                              if math.isnan(x['promo2_since_year' ]) \n",
    "                                              else x['promo2_since_year'], axis=1)\n",
    "#promo_interval   \n",
    "month_map={1:'Jan',2:'Feb',3:'Mar',4:'Apr',5:'May',6:'Jun',7:'Jul',8:'Aug',9:'Sep',10:'Oct',11:'Nov',12:'Dec'}\n",
    "df1['promo_interval'].fillna(0,inplace=True)\n",
    "df1['month_map']=df1['date'].dt.month.map(month_map)\n",
    "df1['is_promo']=df1[['promo_interval','month_map']].apply(\n",
    "    lambda x:0 if x['promo_interval']==0 else 1 if x['month_map'] in x['promo_interval'].split(',')else 0, axis=1)"
   ]
  },
  {
   "cell_type": "code",
   "execution_count": 96,
   "id": "2f8cbd34",
   "metadata": {
    "ExecuteTime": {
     "end_time": "2021-04-23T12:36:20.105894Z",
     "start_time": "2021-04-23T12:36:19.814586Z"
    }
   },
   "outputs": [
    {
     "data": {
      "text/plain": [
       "store                           0\n",
       "day_of_week                     0\n",
       "date                            0\n",
       "sales                           0\n",
       "customers                       0\n",
       "open                            0\n",
       "promo                           0\n",
       "state_holiday                   0\n",
       "school_holiday                  0\n",
       "store_type                      0\n",
       "assortment                      0\n",
       "competition_distance            0\n",
       "competition_open_since_month    0\n",
       "competition_open_since_year     0\n",
       "promo2                          0\n",
       "promo2_since_week               0\n",
       "promo2_since_year               0\n",
       "promo_interval                  0\n",
       "month_map                       0\n",
       "is_promo                        0\n",
       "dtype: int64"
      ]
     },
     "execution_count": 96,
     "metadata": {},
     "output_type": "execute_result"
    }
   ],
   "source": [
    "df1.isna().sum()"
   ]
  },
  {
   "cell_type": "code",
   "execution_count": 93,
   "id": "cdec9ad2",
   "metadata": {
    "ExecuteTime": {
     "end_time": "2021-04-23T12:33:57.114616Z",
     "start_time": "2021-04-23T12:33:46.845933Z"
    }
   },
   "outputs": [],
   "source": []
  },
  {
   "cell_type": "code",
   "execution_count": null,
   "id": "4b014fcf",
   "metadata": {},
   "outputs": [],
   "source": []
  }
 ],
 "metadata": {
  "hide_input": false,
  "kernelspec": {
   "display_name": "Python 3",
   "language": "python",
   "name": "python3"
  },
  "language_info": {
   "codemirror_mode": {
    "name": "ipython",
    "version": 3
   },
   "file_extension": ".py",
   "mimetype": "text/x-python",
   "name": "python",
   "nbconvert_exporter": "python",
   "pygments_lexer": "ipython3",
   "version": "3.8.0"
  },
  "toc": {
   "base_numbering": "0.0",
   "nav_menu": {},
   "number_sections": true,
   "sideBar": true,
   "skip_h1_title": false,
   "title_cell": "Table of Contents",
   "title_sidebar": "Contents",
   "toc_cell": false,
   "toc_position": {},
   "toc_section_display": true,
   "toc_window_display": true
  }
 },
 "nbformat": 4,
 "nbformat_minor": 5
}

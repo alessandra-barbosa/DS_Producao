{
 "cells": [
  {
   "cell_type": "markdown",
   "id": "e7cf08c6",
   "metadata": {},
   "source": [
    "## IMPORTS"
   ]
  },
  {
   "cell_type": "code",
   "execution_count": 205,
   "id": "17910174",
   "metadata": {
    "ExecuteTime": {
     "end_time": "2021-04-23T21:48:52.743289Z",
     "start_time": "2021-04-23T21:48:52.740119Z"
    }
   },
   "outputs": [],
   "source": [
    "import pandas as pd\n",
    "import inflection\n",
    "import math\n",
    "import numpy as np\n",
    "import seaborn as sns\n",
    "from matplotlib import pyplot as plt\n",
    "\n"
   ]
  },
  {
   "cell_type": "markdown",
   "id": "6907f29b",
   "metadata": {},
   "source": [
    "### Helper functions"
   ]
  },
  {
   "cell_type": "markdown",
   "id": "5c3d8e28",
   "metadata": {},
   "source": [
    "### Loading data"
   ]
  },
  {
   "cell_type": "code",
   "execution_count": 198,
   "id": "ff6d76f0",
   "metadata": {
    "ExecuteTime": {
     "end_time": "2021-04-23T21:40:33.487440Z",
     "start_time": "2021-04-23T21:40:32.765003Z"
    }
   },
   "outputs": [],
   "source": [
    "df_sales_raw=pd.read_csv('Datasets/train.csv', low_memory=False)\n",
    "df_store_raw=pd.read_csv('Datasets/store.csv', low_memory=False)\n",
    "\n",
    "# merge\n",
    "\n",
    "df_raw=pd.merge(df_sales_raw,df_store_raw, how='left', on='Store')"
   ]
  },
  {
   "cell_type": "code",
   "execution_count": 144,
   "id": "74bada48",
   "metadata": {
    "ExecuteTime": {
     "end_time": "2021-04-23T21:17:46.221092Z",
     "start_time": "2021-04-23T21:17:45.908966Z"
    }
   },
   "outputs": [
    {
     "data": {
      "text/html": [
       "<div>\n",
       "<style scoped>\n",
       "    .dataframe tbody tr th:only-of-type {\n",
       "        vertical-align: middle;\n",
       "    }\n",
       "\n",
       "    .dataframe tbody tr th {\n",
       "        vertical-align: top;\n",
       "    }\n",
       "\n",
       "    .dataframe thead th {\n",
       "        text-align: right;\n",
       "    }\n",
       "</style>\n",
       "<table border=\"1\" class=\"dataframe\">\n",
       "  <thead>\n",
       "    <tr style=\"text-align: right;\">\n",
       "      <th></th>\n",
       "      <th>Store</th>\n",
       "      <th>DayOfWeek</th>\n",
       "      <th>Date</th>\n",
       "      <th>Sales</th>\n",
       "      <th>Customers</th>\n",
       "      <th>Open</th>\n",
       "      <th>Promo</th>\n",
       "      <th>StateHoliday</th>\n",
       "      <th>SchoolHoliday</th>\n",
       "      <th>StoreType</th>\n",
       "      <th>Assortment</th>\n",
       "      <th>CompetitionDistance</th>\n",
       "      <th>CompetitionOpenSinceMonth</th>\n",
       "      <th>CompetitionOpenSinceYear</th>\n",
       "      <th>Promo2</th>\n",
       "      <th>Promo2SinceWeek</th>\n",
       "      <th>Promo2SinceYear</th>\n",
       "      <th>PromoInterval</th>\n",
       "    </tr>\n",
       "  </thead>\n",
       "  <tbody>\n",
       "    <tr>\n",
       "      <th>794868</th>\n",
       "      <td>659</td>\n",
       "      <td>5</td>\n",
       "      <td>2013-07-19</td>\n",
       "      <td>6160</td>\n",
       "      <td>703</td>\n",
       "      <td>1</td>\n",
       "      <td>1</td>\n",
       "      <td>0</td>\n",
       "      <td>1</td>\n",
       "      <td>d</td>\n",
       "      <td>a</td>\n",
       "      <td>1590.0</td>\n",
       "      <td>3.0</td>\n",
       "      <td>2012.0</td>\n",
       "      <td>0</td>\n",
       "      <td>NaN</td>\n",
       "      <td>NaN</td>\n",
       "      <td>NaN</td>\n",
       "    </tr>\n",
       "  </tbody>\n",
       "</table>\n",
       "</div>"
      ],
      "text/plain": [
       "        Store  DayOfWeek        Date  Sales  Customers  Open  Promo  \\\n",
       "794868    659          5  2013-07-19   6160        703     1      1   \n",
       "\n",
       "       StateHoliday  SchoolHoliday StoreType Assortment  CompetitionDistance  \\\n",
       "794868            0              1         d          a               1590.0   \n",
       "\n",
       "        CompetitionOpenSinceMonth  CompetitionOpenSinceYear  Promo2  \\\n",
       "794868                        3.0                    2012.0       0   \n",
       "\n",
       "        Promo2SinceWeek  Promo2SinceYear PromoInterval  \n",
       "794868              NaN              NaN           NaN  "
      ]
     },
     "execution_count": 144,
     "metadata": {},
     "output_type": "execute_result"
    }
   ],
   "source": [
    "df_raw.sample()\n"
   ]
  },
  {
   "cell_type": "markdown",
   "id": "c45ef68e",
   "metadata": {},
   "source": [
    "## DATA DESCRIPTION"
   ]
  },
  {
   "cell_type": "code",
   "execution_count": 145,
   "id": "1e6376b4",
   "metadata": {
    "ExecuteTime": {
     "end_time": "2021-04-23T21:17:46.290187Z",
     "start_time": "2021-04-23T21:17:46.222927Z"
    }
   },
   "outputs": [
    {
     "data": {
      "text/plain": [
       "Index(['Store', 'DayOfWeek', 'Date', 'Sales', 'Customers', 'Open', 'Promo',\n",
       "       'StateHoliday', 'SchoolHoliday', 'StoreType', 'Assortment',\n",
       "       'CompetitionDistance', 'CompetitionOpenSinceMonth',\n",
       "       'CompetitionOpenSinceYear', 'Promo2', 'Promo2SinceWeek',\n",
       "       'Promo2SinceYear', 'PromoInterval'],\n",
       "      dtype='object')"
      ]
     },
     "execution_count": 145,
     "metadata": {},
     "output_type": "execute_result"
    }
   ],
   "source": [
    "df1=df_raw.copy()\n",
    "df1.columns\n"
   ]
  },
  {
   "cell_type": "markdown",
   "id": "bf357f52",
   "metadata": {
    "ExecuteTime": {
     "end_time": "2021-04-23T10:30:26.362716Z",
     "start_time": "2021-04-23T10:30:26.356693Z"
    }
   },
   "source": [
    "### Rename columns"
   ]
  },
  {
   "cell_type": "code",
   "execution_count": 146,
   "id": "557f5636",
   "metadata": {
    "ExecuteTime": {
     "end_time": "2021-04-23T21:17:46.545320Z",
     "start_time": "2021-04-23T21:17:46.535800Z"
    }
   },
   "outputs": [],
   "source": [
    "cols_old=['Store', 'DayOfWeek', 'Date', 'Sales', 'Customers', 'Open', 'Promo',\n",
    "       'StateHoliday', 'SchoolHoliday', 'StoreType', 'Assortment',\n",
    "       'CompetitionDistance', 'CompetitionOpenSinceMonth',\n",
    "       'CompetitionOpenSinceYear', 'Promo2', 'Promo2SinceWeek',\n",
    "       'Promo2SinceYear', 'PromoInterval']\n",
    "\n",
    "snakecase=lambda x: inflection.underscore(x)\n",
    "\n",
    "cols_new=list(map(snakecase,cols_old))\n",
    "\n",
    "#rename \n",
    "df1.columns=cols_new"
   ]
  },
  {
   "cell_type": "markdown",
   "id": "03715ad3",
   "metadata": {
    "ExecuteTime": {
     "end_time": "2021-04-23T10:42:30.783745Z",
     "start_time": "2021-04-23T10:42:30.776041Z"
    }
   },
   "source": [
    "### Data dimensions"
   ]
  },
  {
   "cell_type": "code",
   "execution_count": 147,
   "id": "d1e2d8de",
   "metadata": {
    "ExecuteTime": {
     "end_time": "2021-04-23T21:17:47.028127Z",
     "start_time": "2021-04-23T21:17:47.019072Z"
    }
   },
   "outputs": [
    {
     "name": "stdout",
     "output_type": "stream",
     "text": [
      "Numbers of raw:1017209\n",
      "Numbers of cols:18\n"
     ]
    }
   ],
   "source": [
    "print('Numbers of raw:{}'.format(df1.shape[0]))\n",
    "print('Numbers of cols:{}'.format(df1.shape[1]))"
   ]
  },
  {
   "cell_type": "markdown",
   "id": "aef2b8ed",
   "metadata": {},
   "source": [
    "### Data Type"
   ]
  },
  {
   "cell_type": "code",
   "execution_count": 148,
   "id": "879d2980",
   "metadata": {
    "ExecuteTime": {
     "end_time": "2021-04-23T21:17:47.624309Z",
     "start_time": "2021-04-23T21:17:47.487879Z"
    }
   },
   "outputs": [
    {
     "data": {
      "text/plain": [
       "store                                    int64\n",
       "day_of_week                              int64\n",
       "date                            datetime64[ns]\n",
       "sales                                    int64\n",
       "customers                                int64\n",
       "open                                     int64\n",
       "promo                                    int64\n",
       "state_holiday                           object\n",
       "school_holiday                           int64\n",
       "store_type                              object\n",
       "assortment                              object\n",
       "competition_distance                   float64\n",
       "competition_open_since_month           float64\n",
       "competition_open_since_year            float64\n",
       "promo2                                   int64\n",
       "promo2_since_week                      float64\n",
       "promo2_since_year                      float64\n",
       "promo_interval                          object\n",
       "dtype: object"
      ]
     },
     "execution_count": 148,
     "metadata": {},
     "output_type": "execute_result"
    }
   ],
   "source": [
    "df1['date']=pd.to_datetime(df1['date'])\n",
    "\n",
    "df1.dtypes\n"
   ]
  },
  {
   "cell_type": "markdown",
   "id": "d7023b03",
   "metadata": {},
   "source": [
    "### Check NA"
   ]
  },
  {
   "cell_type": "code",
   "execution_count": 149,
   "id": "aad96e1d",
   "metadata": {
    "ExecuteTime": {
     "end_time": "2021-04-23T21:17:48.407560Z",
     "start_time": "2021-04-23T21:17:48.209214Z"
    }
   },
   "outputs": [
    {
     "data": {
      "text/plain": [
       "store                                0\n",
       "day_of_week                          0\n",
       "date                                 0\n",
       "sales                                0\n",
       "customers                            0\n",
       "open                                 0\n",
       "promo                                0\n",
       "state_holiday                        0\n",
       "school_holiday                       0\n",
       "store_type                           0\n",
       "assortment                           0\n",
       "competition_distance              2642\n",
       "competition_open_since_month    323348\n",
       "competition_open_since_year     323348\n",
       "promo2                               0\n",
       "promo2_since_week               508031\n",
       "promo2_since_year               508031\n",
       "promo_interval                  508031\n",
       "dtype: int64"
      ]
     },
     "execution_count": 149,
     "metadata": {},
     "output_type": "execute_result"
    }
   ],
   "source": [
    "df1.isna().sum()"
   ]
  },
  {
   "cell_type": "markdown",
   "id": "8e36c214",
   "metadata": {},
   "source": [
    "### Fillout NA"
   ]
  },
  {
   "cell_type": "code",
   "execution_count": 150,
   "id": "e313ce83",
   "metadata": {
    "ExecuteTime": {
     "end_time": "2021-04-23T21:17:48.609898Z",
     "start_time": "2021-04-23T21:17:48.587311Z"
    }
   },
   "outputs": [
    {
     "data": {
      "text/plain": [
       "75860.0"
      ]
     },
     "execution_count": 150,
     "metadata": {},
     "output_type": "execute_result"
    }
   ],
   "source": [
    "df1['competition_distance'].max()"
   ]
  },
  {
   "cell_type": "code",
   "execution_count": 151,
   "id": "20ed6687",
   "metadata": {
    "ExecuteTime": {
     "end_time": "2021-04-23T21:18:56.347840Z",
     "start_time": "2021-04-23T21:17:49.206724Z"
    }
   },
   "outputs": [],
   "source": [
    "#competition_distance              \n",
    "df1['competition_distance']=df1['competition_distance'].apply(lambda x:200000.0 if math.isnan(x) else x)\n",
    "\n",
    "#competition_open_since_month  \n",
    "df1['competition_open_since_month']=df1.apply(lambda x: x['date'].month \n",
    "                                              if math.isnan(x['competition_open_since_month']) \n",
    "                                              else x['competition_open_since_month'], axis=1)\n",
    "\n",
    "#competition_open_since_year  \n",
    "df1['competition_open_since_year']=df1.apply(lambda x: x['date'].year \n",
    "                                              if math.isnan(x['competition_open_since_year']) \n",
    "                                              else x['competition_open_since_year'], axis=1)\n",
    "\n",
    "#promo2_since_week  \n",
    "df1['promo2_since_week']=df1.apply(lambda x: x['date'].week \n",
    "                                              if math.isnan(x['promo2_since_week']) \n",
    "                                              else x['promo2_since_week'], axis=1)\n",
    "#promo2_since_year \n",
    "df1['promo2_since_year']=df1.apply(lambda x: x['date'].year \n",
    "                                              if math.isnan(x['promo2_since_year' ]) \n",
    "                                              else x['promo2_since_year'], axis=1)\n",
    "#promo_interval   \n",
    "month_map={1:'Jan',2:'Feb',3:'Mar',4:'Apr',5:'May',6:'Jun',7:'Jul',8:'Aug',9:'Sep',10:'Oct',11:'Nov',12:'Dec'}\n",
    "df1['promo_interval'].fillna(0,inplace=True)\n",
    "df1['month_map']=df1['date'].dt.month.map(month_map)\n",
    "df1['is_promo']=df1[['promo_interval','month_map']].apply(\n",
    "    lambda x:0 if x['promo_interval']==0 else 1 if x['month_map'] in x['promo_interval'].split(',')else 0, axis=1)"
   ]
  },
  {
   "cell_type": "code",
   "execution_count": 152,
   "id": "6396a0b3",
   "metadata": {
    "ExecuteTime": {
     "end_time": "2021-04-23T21:18:56.591763Z",
     "start_time": "2021-04-23T21:18:56.349178Z"
    }
   },
   "outputs": [
    {
     "data": {
      "text/plain": [
       "store                           0\n",
       "day_of_week                     0\n",
       "date                            0\n",
       "sales                           0\n",
       "customers                       0\n",
       "open                            0\n",
       "promo                           0\n",
       "state_holiday                   0\n",
       "school_holiday                  0\n",
       "store_type                      0\n",
       "assortment                      0\n",
       "competition_distance            0\n",
       "competition_open_since_month    0\n",
       "competition_open_since_year     0\n",
       "promo2                          0\n",
       "promo2_since_week               0\n",
       "promo2_since_year               0\n",
       "promo_interval                  0\n",
       "month_map                       0\n",
       "is_promo                        0\n",
       "dtype: int64"
      ]
     },
     "execution_count": 152,
     "metadata": {},
     "output_type": "execute_result"
    }
   ],
   "source": [
    "df1.isna().sum()"
   ]
  },
  {
   "cell_type": "markdown",
   "id": "8c5a2008",
   "metadata": {
    "ExecuteTime": {
     "end_time": "2021-04-23T12:33:57.114616Z",
     "start_time": "2021-04-23T12:33:46.845933Z"
    }
   },
   "source": [
    "### Change Types"
   ]
  },
  {
   "cell_type": "code",
   "execution_count": 153,
   "id": "6b45ebad",
   "metadata": {
    "ExecuteTime": {
     "end_time": "2021-04-23T21:18:56.598499Z",
     "start_time": "2021-04-23T21:18:56.593506Z"
    }
   },
   "outputs": [
    {
     "data": {
      "text/plain": [
       "store                                    int64\n",
       "day_of_week                              int64\n",
       "date                            datetime64[ns]\n",
       "sales                                    int64\n",
       "customers                                int64\n",
       "open                                     int64\n",
       "promo                                    int64\n",
       "state_holiday                           object\n",
       "school_holiday                           int64\n",
       "store_type                              object\n",
       "assortment                              object\n",
       "competition_distance                   float64\n",
       "competition_open_since_month           float64\n",
       "competition_open_since_year            float64\n",
       "promo2                                   int64\n",
       "promo2_since_week                      float64\n",
       "promo2_since_year                      float64\n",
       "promo_interval                          object\n",
       "month_map                               object\n",
       "is_promo                                 int64\n",
       "dtype: object"
      ]
     },
     "execution_count": 153,
     "metadata": {},
     "output_type": "execute_result"
    }
   ],
   "source": [
    "df1.dtypes"
   ]
  },
  {
   "cell_type": "code",
   "execution_count": 154,
   "id": "6ae59af5",
   "metadata": {
    "ExecuteTime": {
     "end_time": "2021-04-23T21:18:56.631359Z",
     "start_time": "2021-04-23T21:18:56.600124Z"
    }
   },
   "outputs": [],
   "source": [
    "df1['competition_open_since_month']=df1['competition_open_since_month'].astype(int)\n",
    "df1['competition_open_since_year']=df1['competition_open_since_year'].astype(int)\n",
    "df1['promo2_since_week']=df1['promo2_since_week'].astype(int)\n",
    "df1['promo2_since_year']=df1['promo2_since_year'].astype(int)"
   ]
  },
  {
   "cell_type": "markdown",
   "id": "620a664b",
   "metadata": {},
   "source": [
    "### Descriptive Statistical"
   ]
  },
  {
   "cell_type": "code",
   "execution_count": 155,
   "id": "819d9ad7",
   "metadata": {
    "ExecuteTime": {
     "end_time": "2021-04-23T21:18:56.756202Z",
     "start_time": "2021-04-23T21:18:56.633601Z"
    }
   },
   "outputs": [],
   "source": [
    "num_atributes=df1.select_dtypes(include=['int64','float64'])\n",
    "cat_atributes=df1.select_dtypes(exclude=['int64','float64','datetime64[ns]'])\n"
   ]
  },
  {
   "cell_type": "markdown",
   "id": "929c4e12",
   "metadata": {
    "ExecuteTime": {
     "end_time": "2021-04-23T13:09:10.050040Z",
     "start_time": "2021-04-23T13:09:10.044385Z"
    }
   },
   "source": [
    "#### numerical Attributes"
   ]
  },
  {
   "cell_type": "code",
   "execution_count": 164,
   "id": "6d539628",
   "metadata": {
    "ExecuteTime": {
     "end_time": "2021-04-23T21:22:46.969842Z",
     "start_time": "2021-04-23T21:22:46.852916Z"
    }
   },
   "outputs": [],
   "source": [
    "# central Tendency - mean, median\n",
    "ct1=pd.DataFrame(num_atributes.apply(np.mean)).T\n",
    "ct2=pd.DataFrame(num_atributes.apply(np.median)).T\n"
   ]
  },
  {
   "cell_type": "code",
   "execution_count": 208,
   "id": "1466faca",
   "metadata": {
    "ExecuteTime": {
     "end_time": "2021-04-23T21:55:33.602559Z",
     "start_time": "2021-04-23T21:55:33.282779Z"
    }
   },
   "outputs": [
    {
     "data": {
      "text/html": [
       "<div>\n",
       "<style scoped>\n",
       "    .dataframe tbody tr th:only-of-type {\n",
       "        vertical-align: middle;\n",
       "    }\n",
       "\n",
       "    .dataframe tbody tr th {\n",
       "        vertical-align: top;\n",
       "    }\n",
       "\n",
       "    .dataframe thead th {\n",
       "        text-align: right;\n",
       "    }\n",
       "</style>\n",
       "<table border=\"1\" class=\"dataframe\">\n",
       "  <thead>\n",
       "    <tr style=\"text-align: right;\">\n",
       "      <th></th>\n",
       "      <th>attributes</th>\n",
       "      <th>min</th>\n",
       "      <th>max</th>\n",
       "      <th>range</th>\n",
       "      <th>mean</th>\n",
       "      <th>median</th>\n",
       "      <th>std</th>\n",
       "      <th>skew</th>\n",
       "      <th>kurtosis</th>\n",
       "    </tr>\n",
       "  </thead>\n",
       "  <tbody>\n",
       "    <tr>\n",
       "      <th>0</th>\n",
       "      <td>store</td>\n",
       "      <td>558.429727</td>\n",
       "      <td>1.0</td>\n",
       "      <td>1115.0</td>\n",
       "      <td>558.429727</td>\n",
       "      <td>558.0</td>\n",
       "      <td>321.908493</td>\n",
       "      <td>-1.200524</td>\n",
       "      <td>558.429727</td>\n",
       "    </tr>\n",
       "    <tr>\n",
       "      <th>1</th>\n",
       "      <td>day_of_week</td>\n",
       "      <td>3.998341</td>\n",
       "      <td>1.0</td>\n",
       "      <td>7.0</td>\n",
       "      <td>3.998341</td>\n",
       "      <td>4.0</td>\n",
       "      <td>1.997390</td>\n",
       "      <td>-1.246873</td>\n",
       "      <td>3.998341</td>\n",
       "    </tr>\n",
       "    <tr>\n",
       "      <th>2</th>\n",
       "      <td>sales</td>\n",
       "      <td>5773.818972</td>\n",
       "      <td>0.0</td>\n",
       "      <td>41551.0</td>\n",
       "      <td>5773.818972</td>\n",
       "      <td>5744.0</td>\n",
       "      <td>3849.924283</td>\n",
       "      <td>1.778375</td>\n",
       "      <td>5773.818972</td>\n",
       "    </tr>\n",
       "    <tr>\n",
       "      <th>3</th>\n",
       "      <td>customers</td>\n",
       "      <td>633.145946</td>\n",
       "      <td>0.0</td>\n",
       "      <td>7388.0</td>\n",
       "      <td>633.145946</td>\n",
       "      <td>609.0</td>\n",
       "      <td>464.411506</td>\n",
       "      <td>7.091773</td>\n",
       "      <td>633.145946</td>\n",
       "    </tr>\n",
       "    <tr>\n",
       "      <th>4</th>\n",
       "      <td>open</td>\n",
       "      <td>0.830107</td>\n",
       "      <td>0.0</td>\n",
       "      <td>1.0</td>\n",
       "      <td>0.830107</td>\n",
       "      <td>1.0</td>\n",
       "      <td>0.375539</td>\n",
       "      <td>1.090723</td>\n",
       "      <td>0.830107</td>\n",
       "    </tr>\n",
       "    <tr>\n",
       "      <th>5</th>\n",
       "      <td>promo</td>\n",
       "      <td>0.381515</td>\n",
       "      <td>0.0</td>\n",
       "      <td>1.0</td>\n",
       "      <td>0.381515</td>\n",
       "      <td>0.0</td>\n",
       "      <td>0.485758</td>\n",
       "      <td>-1.762018</td>\n",
       "      <td>0.381515</td>\n",
       "    </tr>\n",
       "    <tr>\n",
       "      <th>6</th>\n",
       "      <td>school_holiday</td>\n",
       "      <td>0.178647</td>\n",
       "      <td>0.0</td>\n",
       "      <td>1.0</td>\n",
       "      <td>0.178647</td>\n",
       "      <td>0.0</td>\n",
       "      <td>0.383056</td>\n",
       "      <td>0.815154</td>\n",
       "      <td>0.178647</td>\n",
       "    </tr>\n",
       "    <tr>\n",
       "      <th>7</th>\n",
       "      <td>competition_distance</td>\n",
       "      <td>5935.442677</td>\n",
       "      <td>20.0</td>\n",
       "      <td>200000.0</td>\n",
       "      <td>5935.442677</td>\n",
       "      <td>2330.0</td>\n",
       "      <td>12547.646829</td>\n",
       "      <td>147.789712</td>\n",
       "      <td>5935.442677</td>\n",
       "    </tr>\n",
       "    <tr>\n",
       "      <th>8</th>\n",
       "      <td>competition_open_since_month</td>\n",
       "      <td>6.786849</td>\n",
       "      <td>1.0</td>\n",
       "      <td>12.0</td>\n",
       "      <td>6.786849</td>\n",
       "      <td>7.0</td>\n",
       "      <td>3.311085</td>\n",
       "      <td>-1.232607</td>\n",
       "      <td>6.786849</td>\n",
       "    </tr>\n",
       "    <tr>\n",
       "      <th>9</th>\n",
       "      <td>competition_open_since_year</td>\n",
       "      <td>2010.324840</td>\n",
       "      <td>1900.0</td>\n",
       "      <td>2015.0</td>\n",
       "      <td>2010.324840</td>\n",
       "      <td>2012.0</td>\n",
       "      <td>5.515591</td>\n",
       "      <td>124.071304</td>\n",
       "      <td>2010.324840</td>\n",
       "    </tr>\n",
       "    <tr>\n",
       "      <th>10</th>\n",
       "      <td>promo2</td>\n",
       "      <td>0.500564</td>\n",
       "      <td>0.0</td>\n",
       "      <td>1.0</td>\n",
       "      <td>0.500564</td>\n",
       "      <td>1.0</td>\n",
       "      <td>0.500000</td>\n",
       "      <td>-1.999999</td>\n",
       "      <td>0.500564</td>\n",
       "    </tr>\n",
       "    <tr>\n",
       "      <th>11</th>\n",
       "      <td>promo2_since_week</td>\n",
       "      <td>23.619033</td>\n",
       "      <td>1.0</td>\n",
       "      <td>52.0</td>\n",
       "      <td>23.619033</td>\n",
       "      <td>22.0</td>\n",
       "      <td>14.310057</td>\n",
       "      <td>-1.184046</td>\n",
       "      <td>23.619033</td>\n",
       "    </tr>\n",
       "    <tr>\n",
       "      <th>12</th>\n",
       "      <td>promo2_since_year</td>\n",
       "      <td>2012.793297</td>\n",
       "      <td>2009.0</td>\n",
       "      <td>2015.0</td>\n",
       "      <td>2012.793297</td>\n",
       "      <td>2013.0</td>\n",
       "      <td>1.662657</td>\n",
       "      <td>-0.210075</td>\n",
       "      <td>2012.793297</td>\n",
       "    </tr>\n",
       "    <tr>\n",
       "      <th>13</th>\n",
       "      <td>is_promo</td>\n",
       "      <td>0.165966</td>\n",
       "      <td>0.0</td>\n",
       "      <td>1.0</td>\n",
       "      <td>0.165966</td>\n",
       "      <td>0.0</td>\n",
       "      <td>0.372050</td>\n",
       "      <td>1.224338</td>\n",
       "      <td>0.165966</td>\n",
       "    </tr>\n",
       "  </tbody>\n",
       "</table>\n",
       "</div>"
      ],
      "text/plain": [
       "                      attributes          min     max     range         mean  \\\n",
       "0                          store   558.429727     1.0    1115.0   558.429727   \n",
       "1                    day_of_week     3.998341     1.0       7.0     3.998341   \n",
       "2                          sales  5773.818972     0.0   41551.0  5773.818972   \n",
       "3                      customers   633.145946     0.0    7388.0   633.145946   \n",
       "4                           open     0.830107     0.0       1.0     0.830107   \n",
       "5                          promo     0.381515     0.0       1.0     0.381515   \n",
       "6                 school_holiday     0.178647     0.0       1.0     0.178647   \n",
       "7           competition_distance  5935.442677    20.0  200000.0  5935.442677   \n",
       "8   competition_open_since_month     6.786849     1.0      12.0     6.786849   \n",
       "9    competition_open_since_year  2010.324840  1900.0    2015.0  2010.324840   \n",
       "10                        promo2     0.500564     0.0       1.0     0.500564   \n",
       "11             promo2_since_week    23.619033     1.0      52.0    23.619033   \n",
       "12             promo2_since_year  2012.793297  2009.0    2015.0  2012.793297   \n",
       "13                      is_promo     0.165966     0.0       1.0     0.165966   \n",
       "\n",
       "    median           std        skew     kurtosis  \n",
       "0    558.0    321.908493   -1.200524   558.429727  \n",
       "1      4.0      1.997390   -1.246873     3.998341  \n",
       "2   5744.0   3849.924283    1.778375  5773.818972  \n",
       "3    609.0    464.411506    7.091773   633.145946  \n",
       "4      1.0      0.375539    1.090723     0.830107  \n",
       "5      0.0      0.485758   -1.762018     0.381515  \n",
       "6      0.0      0.383056    0.815154     0.178647  \n",
       "7   2330.0  12547.646829  147.789712  5935.442677  \n",
       "8      7.0      3.311085   -1.232607     6.786849  \n",
       "9   2012.0      5.515591  124.071304  2010.324840  \n",
       "10     1.0      0.500000   -1.999999     0.500564  \n",
       "11    22.0     14.310057   -1.184046    23.619033  \n",
       "12  2013.0      1.662657   -0.210075  2012.793297  \n",
       "13     0.0      0.372050    1.224338     0.165966  "
      ]
     },
     "execution_count": 208,
     "metadata": {},
     "output_type": "execute_result"
    }
   ],
   "source": [
    "# Dispersion - std, min, max, range, skew, kurtosis\n",
    "d1=pd.DataFrame(num_atributes.apply(np.std)).T\n",
    "d2=pd.DataFrame(num_atributes.apply(np.mean)).T\n",
    "d3=pd.DataFrame(num_atributes.apply(np.min)).T\n",
    "d4=pd.DataFrame(num_atributes.apply(np.max)).T\n",
    "d5=pd.DataFrame(num_atributes.apply(lambda x: x.max()-x.min())).T\n",
    "d5=pd.DataFrame(num_atributes.apply(lambda x: x.skew())).T\n",
    "d5=pd.DataFrame(num_atributes.apply(lambda x: x.kurtosis())).T\n",
    "\n",
    " # concatenate\n",
    "m=pd.concat([d2,d3,d4,ct1,ct2,d1,d5,d6]).T.reset_index()\n",
    "m.columns=['attributes','min','max','range','mean','median','std','skew','kurtosis']\n",
    "m"
   ]
  },
  {
   "cell_type": "code",
   "execution_count": 227,
   "id": "26763a92",
   "metadata": {
    "ExecuteTime": {
     "end_time": "2021-04-23T22:15:43.398099Z",
     "start_time": "2021-04-23T22:15:40.390692Z"
    }
   },
   "outputs": [
    {
     "name": "stderr",
     "output_type": "stream",
     "text": [
      "/home/alessandra/.pyenv/versions/3.8.0/envs/ds_producao/lib/python3.8/site-packages/seaborn/distributions.py:2557: FutureWarning: `distplot` is a deprecated function and will be removed in a future version. Please adapt your code to use either `displot` (a figure-level function with similar flexibility) or `histplot` (an axes-level function for histograms).\n",
      "  warnings.warn(msg, FutureWarning)\n"
     ]
    },
    {
     "data": {
      "image/png": "[encoded data removed]",
      "text/plain": [
       "<Figure size 432x288 with 1 Axes>"
      ]
     },
     "metadata": {},
     "output_type": "display_data"
    }
   ],
   "source": [
    "sns.set_style('white')\n",
    "sns.distplot(df1['sales'], bins=20);\n"
   ]
  },
  {
   "cell_type": "code",
   "execution_count": null,
   "id": "565d64f1",
   "metadata": {},
   "outputs": [],
   "source": []
  }
 ],
 "metadata": {
  "hide_input": false,
  "kernelspec": {
   "display_name": "Python 3",
   "language": "python",
   "name": "python3"
  },
  "language_info": {
   "codemirror_mode": {
    "name": "ipython",
    "version": 3
   },
   "file_extension": ".py",
   "mimetype": "text/x-python",
   "name": "python",
   "nbconvert_exporter": "python",
   "pygments_lexer": "ipython3",
   "version": "3.8.0"
  },
  "toc": {
   "base_numbering": "0.0",
   "nav_menu": {},
   "number_sections": true,
   "sideBar": true,
   "skip_h1_title": false,
   "title_cell": "Table of Contents",
   "title_sidebar": "Contents",
   "toc_cell": false,
   "toc_position": {},
   "toc_section_display": true,
   "toc_window_display": true
  }
 },
 "nbformat": 4,
 "nbformat_minor": 5
}

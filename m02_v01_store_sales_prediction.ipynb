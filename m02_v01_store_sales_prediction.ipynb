{
 "cells": [
  {
   "cell_type": "markdown",
   "id": "e7cf08c6",
   "metadata": {},
   "source": [
    "## IMPORTS"
   ]
  },
  {
   "cell_type": "code",
   "execution_count": 1,
   "id": "17910174",
   "metadata": {
    "ExecuteTime": {
     "end_time": "2021-04-24T10:43:08.562277Z",
     "start_time": "2021-04-24T10:43:07.902880Z"
    }
   },
   "outputs": [],
   "source": [
    "import pandas as pd\n",
    "import inflection\n",
    "import math\n",
    "import numpy as np\n",
    "import seaborn as sns\n",
    "from matplotlib import pyplot as plt\n",
    "from IPython.core.display import HTML       "
   ]
  },
  {
   "cell_type": "markdown",
   "id": "6907f29b",
   "metadata": {},
   "source": [
    "### Helper functions"
   ]
  },
  {
   "cell_type": "code",
   "execution_count": 2,
   "id": "36409831",
   "metadata": {
    "ExecuteTime": {
     "end_time": "2021-04-24T10:43:10.062338Z",
     "start_time": "2021-04-24T10:43:10.052425Z"
    }
   },
   "outputs": [],
   "source": [
    "def jupyter_settings():\n",
    "    %matplotlib inline\n",
    "    %pylab inline\n",
    "    \n",
    "    plt.style.use( 'bmh' )\n",
    "    plt.rcParams['figure.figsize'] = [25, 12]\n",
    "    plt.rcParams['font.size'] = 24\n",
    "    \n",
    "    display( HTML( '<style>.container { width:100% !important; }</style>') )\n",
    "    pd.options.display.max_columns = None\n",
    "    pd.options.display.max_rows = None\n",
    "    pd.set_option( 'display.expand_frame_repr', False )\n",
    "    \n",
    "    sns.set()\n",
    "\n"
   ]
  },
  {
   "cell_type": "code",
   "execution_count": 3,
   "id": "fb81afd7",
   "metadata": {
    "ExecuteTime": {
     "end_time": "2021-04-24T10:43:12.110195Z",
     "start_time": "2021-04-24T10:43:12.101274Z"
    }
   },
   "outputs": [
    {
     "name": "stdout",
     "output_type": "stream",
     "text": [
      "Populating the interactive namespace from numpy and matplotlib\n"
     ]
    },
    {
     "data": {
      "text/html": [
       "<style>.container { width:100% !important; }</style>"
      ],
      "text/plain": [
       "<IPython.core.display.HTML object>"
      ]
     },
     "metadata": {},
     "output_type": "display_data"
    }
   ],
   "source": [
    "jupyter_settings()"
   ]
  },
  {
   "cell_type": "markdown",
   "id": "5c3d8e28",
   "metadata": {},
   "source": [
    "### Loading data"
   ]
  },
  {
   "cell_type": "code",
   "execution_count": 4,
   "id": "ff6d76f0",
   "metadata": {
    "ExecuteTime": {
     "end_time": "2021-04-24T10:43:14.898809Z",
     "start_time": "2021-04-24T10:43:14.143988Z"
    }
   },
   "outputs": [],
   "source": [
    "df_sales_raw=pd.read_csv('Datasets/train.csv', low_memory=False)\n",
    "df_store_raw=pd.read_csv('Datasets/store.csv', low_memory=False)\n",
    "\n",
    "# merge\n",
    "\n",
    "df_raw=pd.merge(df_sales_raw,df_store_raw, how='left', on='Store')"
   ]
  },
  {
   "cell_type": "code",
   "execution_count": 5,
   "id": "74bada48",
   "metadata": {
    "ExecuteTime": {
     "end_time": "2021-04-24T10:49:42.087649Z",
     "start_time": "2021-04-24T10:49:42.072101Z"
    }
   },
   "outputs": [
    {
     "data": {
      "text/html": [
       "<div>\n",
       "<style scoped>\n",
       "    .dataframe tbody tr th:only-of-type {\n",
       "        vertical-align: middle;\n",
       "    }\n",
       "\n",
       "    .dataframe tbody tr th {\n",
       "        vertical-align: top;\n",
       "    }\n",
       "\n",
       "    .dataframe thead th {\n",
       "        text-align: right;\n",
       "    }\n",
       "</style>\n",
       "<table border=\"1\" class=\"dataframe\">\n",
       "  <thead>\n",
       "    <tr style=\"text-align: right;\">\n",
       "      <th></th>\n",
       "      <th>Store</th>\n",
       "      <th>DayOfWeek</th>\n",
       "      <th>Date</th>\n",
       "      <th>Sales</th>\n",
       "      <th>Customers</th>\n",
       "      <th>Open</th>\n",
       "      <th>Promo</th>\n",
       "      <th>StateHoliday</th>\n",
       "      <th>SchoolHoliday</th>\n",
       "      <th>StoreType</th>\n",
       "      <th>Assortment</th>\n",
       "      <th>CompetitionDistance</th>\n",
       "      <th>CompetitionOpenSinceMonth</th>\n",
       "      <th>CompetitionOpenSinceYear</th>\n",
       "      <th>Promo2</th>\n",
       "      <th>Promo2SinceWeek</th>\n",
       "      <th>Promo2SinceYear</th>\n",
       "      <th>PromoInterval</th>\n",
       "    </tr>\n",
       "  </thead>\n",
       "  <tbody>\n",
       "    <tr>\n",
       "      <th>0</th>\n",
       "      <td>1</td>\n",
       "      <td>5</td>\n",
       "      <td>2015-07-31</td>\n",
       "      <td>5263</td>\n",
       "      <td>555</td>\n",
       "      <td>1</td>\n",
       "      <td>1</td>\n",
       "      <td>0</td>\n",
       "      <td>1</td>\n",
       "      <td>c</td>\n",
       "      <td>a</td>\n",
       "      <td>1270.0</td>\n",
       "      <td>9.0</td>\n",
       "      <td>2008.0</td>\n",
       "      <td>0</td>\n",
       "      <td>NaN</td>\n",
       "      <td>NaN</td>\n",
       "      <td>NaN</td>\n",
       "    </tr>\n",
       "    <tr>\n",
       "      <th>1</th>\n",
       "      <td>2</td>\n",
       "      <td>5</td>\n",
       "      <td>2015-07-31</td>\n",
       "      <td>6064</td>\n",
       "      <td>625</td>\n",
       "      <td>1</td>\n",
       "      <td>1</td>\n",
       "      <td>0</td>\n",
       "      <td>1</td>\n",
       "      <td>a</td>\n",
       "      <td>a</td>\n",
       "      <td>570.0</td>\n",
       "      <td>11.0</td>\n",
       "      <td>2007.0</td>\n",
       "      <td>1</td>\n",
       "      <td>13.0</td>\n",
       "      <td>2010.0</td>\n",
       "      <td>Jan,Apr,Jul,Oct</td>\n",
       "    </tr>\n",
       "    <tr>\n",
       "      <th>2</th>\n",
       "      <td>3</td>\n",
       "      <td>5</td>\n",
       "      <td>2015-07-31</td>\n",
       "      <td>8314</td>\n",
       "      <td>821</td>\n",
       "      <td>1</td>\n",
       "      <td>1</td>\n",
       "      <td>0</td>\n",
       "      <td>1</td>\n",
       "      <td>a</td>\n",
       "      <td>a</td>\n",
       "      <td>14130.0</td>\n",
       "      <td>12.0</td>\n",
       "      <td>2006.0</td>\n",
       "      <td>1</td>\n",
       "      <td>14.0</td>\n",
       "      <td>2011.0</td>\n",
       "      <td>Jan,Apr,Jul,Oct</td>\n",
       "    </tr>\n",
       "    <tr>\n",
       "      <th>3</th>\n",
       "      <td>4</td>\n",
       "      <td>5</td>\n",
       "      <td>2015-07-31</td>\n",
       "      <td>13995</td>\n",
       "      <td>1498</td>\n",
       "      <td>1</td>\n",
       "      <td>1</td>\n",
       "      <td>0</td>\n",
       "      <td>1</td>\n",
       "      <td>c</td>\n",
       "      <td>c</td>\n",
       "      <td>620.0</td>\n",
       "      <td>9.0</td>\n",
       "      <td>2009.0</td>\n",
       "      <td>0</td>\n",
       "      <td>NaN</td>\n",
       "      <td>NaN</td>\n",
       "      <td>NaN</td>\n",
       "    </tr>\n",
       "    <tr>\n",
       "      <th>4</th>\n",
       "      <td>5</td>\n",
       "      <td>5</td>\n",
       "      <td>2015-07-31</td>\n",
       "      <td>4822</td>\n",
       "      <td>559</td>\n",
       "      <td>1</td>\n",
       "      <td>1</td>\n",
       "      <td>0</td>\n",
       "      <td>1</td>\n",
       "      <td>a</td>\n",
       "      <td>a</td>\n",
       "      <td>29910.0</td>\n",
       "      <td>4.0</td>\n",
       "      <td>2015.0</td>\n",
       "      <td>0</td>\n",
       "      <td>NaN</td>\n",
       "      <td>NaN</td>\n",
       "      <td>NaN</td>\n",
       "    </tr>\n",
       "  </tbody>\n",
       "</table>\n",
       "</div>"
      ],
      "text/plain": [
       "   Store  DayOfWeek        Date  Sales  Customers  Open  Promo StateHoliday  SchoolHoliday StoreType Assortment  CompetitionDistance  CompetitionOpenSinceMonth  CompetitionOpenSinceYear  Promo2  Promo2SinceWeek  Promo2SinceYear    PromoInterval\n",
       "0      1          5  2015-07-31   5263        555     1      1            0              1         c          a               1270.0                        9.0                    2008.0       0              NaN              NaN              NaN\n",
       "1      2          5  2015-07-31   6064        625     1      1            0              1         a          a                570.0                       11.0                    2007.0       1             13.0           2010.0  Jan,Apr,Jul,Oct\n",
       "2      3          5  2015-07-31   8314        821     1      1            0              1         a          a              14130.0                       12.0                    2006.0       1             14.0           2011.0  Jan,Apr,Jul,Oct\n",
       "3      4          5  2015-07-31  13995       1498     1      1            0              1         c          c                620.0                        9.0                    2009.0       0              NaN              NaN              NaN\n",
       "4      5          5  2015-07-31   4822        559     1      1            0              1         a          a              29910.0                        4.0                    2015.0       0              NaN              NaN              NaN"
      ]
     },
     "execution_count": 5,
     "metadata": {},
     "output_type": "execute_result"
    }
   ],
   "source": [
    "df_raw.head()\n"
   ]
  },
  {
   "cell_type": "markdown",
   "id": "c45ef68e",
   "metadata": {},
   "source": [
    "## DATA DESCRIPTION"
   ]
  },
  {
   "cell_type": "code",
   "execution_count": 9,
   "id": "1e6376b4",
   "metadata": {
    "ExecuteTime": {
     "end_time": "2021-04-24T12:32:17.430149Z",
     "start_time": "2021-04-24T12:32:17.376529Z"
    }
   },
   "outputs": [
    {
     "data": {
      "text/plain": [
       "Index(['Store', 'DayOfWeek', 'Date', 'Sales', 'Customers', 'Open', 'Promo',\n",
       "       'StateHoliday', 'SchoolHoliday', 'StoreType', 'Assortment',\n",
       "       'CompetitionDistance', 'CompetitionOpenSinceMonth',\n",
       "       'CompetitionOpenSinceYear', 'Promo2', 'Promo2SinceWeek',\n",
       "       'Promo2SinceYear', 'PromoInterval'],\n",
       "      dtype='object')"
      ]
     },
     "execution_count": 9,
     "metadata": {},
     "output_type": "execute_result"
    }
   ],
   "source": [
    "df1=df_raw.copy()\n",
    "df1.columns\n"
   ]
  },
  {
   "cell_type": "markdown",
   "id": "bf357f52",
   "metadata": {
    "ExecuteTime": {
     "end_time": "2021-04-23T10:30:26.362716Z",
     "start_time": "2021-04-23T10:30:26.356693Z"
    }
   },
   "source": [
    "### Rename columns"
   ]
  },
  {
   "cell_type": "code",
   "execution_count": null,
   "id": "557f5636",
   "metadata": {
    "ExecuteTime": {
     "end_time": "2021-04-24T12:32:42.847213Z",
     "start_time": "2021-04-24T12:29:20.910Z"
    }
   },
   "outputs": [],
   "source": [
    "cols_old=['Store', 'DayOfWeek', 'Date', 'Sales', 'Customers', 'Open', 'Promo',\n",
    "       'StateHoliday', 'SchoolHoliday', 'StoreType', 'Assortment',\n",
    "       'CompetitionDistance', 'CompetitionOpenSinceMonth',\n",
    "       'CompetitionOpenSinceYear', 'Promo2', 'Promo2SinceWeek',\n",
    "       'Promo2SinceYear', 'PromoInterval']\n",
    "\n",
    "snakecase=lambda x: inflection.underscore(x)\n",
    "\n",
    "cols_new=list(map(snakecase,cols_old))\n",
    "\n",
    "#rename \n",
    "df1.columns=cols_new"
   ]
  },
  {
   "cell_type": "markdown",
   "id": "03715ad3",
   "metadata": {
    "ExecuteTime": {
     "end_time": "2021-04-23T10:42:30.783745Z",
     "start_time": "2021-04-23T10:42:30.776041Z"
    }
   },
   "source": [
    "### Data dimensions"
   ]
  },
  {
   "cell_type": "code",
   "execution_count": null,
   "id": "d1e2d8de",
   "metadata": {
    "ExecuteTime": {
     "end_time": "2021-04-24T12:32:42.849605Z",
     "start_time": "2021-04-24T12:29:23.347Z"
    }
   },
   "outputs": [],
   "source": [
    "print('Numbers of raw:{}'.format(df1.shape[0]))\n",
    "print('Numbers of cols:{}'.format(df1.shape[1]))"
   ]
  },
  {
   "cell_type": "markdown",
   "id": "aef2b8ed",
   "metadata": {},
   "source": [
    "### Data Type"
   ]
  },
  {
   "cell_type": "code",
   "execution_count": null,
   "id": "879d2980",
   "metadata": {
    "ExecuteTime": {
     "end_time": "2021-04-24T12:32:42.852592Z",
     "start_time": "2021-04-24T12:29:23.885Z"
    }
   },
   "outputs": [],
   "source": [
    "df1['date']=pd.to_datetime(df1['date'])\n",
    "\n",
    "df1.dtypes\n"
   ]
  },
  {
   "cell_type": "markdown",
   "id": "d7023b03",
   "metadata": {},
   "source": [
    "### Check NA"
   ]
  },
  {
   "cell_type": "code",
   "execution_count": null,
   "id": "aad96e1d",
   "metadata": {
    "ExecuteTime": {
     "end_time": "2021-04-24T12:32:42.855382Z",
     "start_time": "2021-04-24T12:29:24.277Z"
    }
   },
   "outputs": [],
   "source": [
    "df1.isna().sum()"
   ]
  },
  {
   "cell_type": "markdown",
   "id": "8e36c214",
   "metadata": {},
   "source": [
    "### Fillout NA"
   ]
  },
  {
   "cell_type": "code",
   "execution_count": null,
   "id": "e313ce83",
   "metadata": {
    "ExecuteTime": {
     "end_time": "2021-04-24T12:32:42.859262Z",
     "start_time": "2021-04-24T12:29:24.636Z"
    }
   },
   "outputs": [],
   "source": [
    "df1['competition_distance'].max()"
   ]
  },
  {
   "cell_type": "code",
   "execution_count": null,
   "id": "20ed6687",
   "metadata": {
    "ExecuteTime": {
     "end_time": "2021-04-24T12:32:42.861645Z",
     "start_time": "2021-04-24T12:29:24.847Z"
    }
   },
   "outputs": [],
   "source": [
    "#competition_distance              \n",
    "df1['competition_distance']=df1['competition_distance'].apply(lambda x:200000.0 if math.isnan(x) else x)\n",
    "\n",
    "#competition_open_since_month  \n",
    "df1['competition_open_since_month']=df1.apply(lambda x: x['date'].month \n",
    "                                              if math.isnan(x['competition_open_since_month']) \n",
    "                                              else x['competition_open_since_month'], axis=1)\n",
    "\n",
    "#competition_open_since_year  \n",
    "df1['competition_open_since_year']=df1.apply(lambda x: x['date'].year \n",
    "                                              if math.isnan(x['competition_open_since_year']) \n",
    "                                              else x['competition_open_since_year'], axis=1)\n",
    "\n",
    "#promo2_since_week  \n",
    "df1['promo2_since_week']=df1.apply(lambda x: x['date'].week \n",
    "                                              if math.isnan(x['promo2_since_week']) \n",
    "                                              else x['promo2_since_week'], axis=1)\n",
    "#promo2_since_year \n",
    "df1['promo2_since_year']=df1.apply(lambda x: x['date'].year \n",
    "                                              if math.isnan(x['promo2_since_year' ]) \n",
    "                                              else x['promo2_since_year'], axis=1)\n",
    "#promo_interval   \n",
    "month_map={1:'Jan',2:'Feb',3:'Mar',4:'Apr',5:'May',6:'Jun',7:'Jul',8:'Aug',9:'Sep',10:'Oct',11:'Nov',12:'Dec'}\n",
    "df1['promo_interval'].fillna(0,inplace=True)\n",
    "df1['month_map']=df1['date'].dt.month.map(month_map)\n",
    "df1['is_promo']=df1[['promo_interval','month_map']].apply(\n",
    "    lambda x:0 if x['promo_interval']==0 else 1 if x['month_map'] in x['promo_interval'].split(',')else 0, axis=1)"
   ]
  },
  {
   "cell_type": "code",
   "execution_count": null,
   "id": "6396a0b3",
   "metadata": {
    "ExecuteTime": {
     "end_time": "2021-04-24T12:32:42.864057Z",
     "start_time": "2021-04-24T12:29:25.195Z"
    }
   },
   "outputs": [],
   "source": [
    "df1.isna().sum()"
   ]
  },
  {
   "cell_type": "markdown",
   "id": "8c5a2008",
   "metadata": {
    "ExecuteTime": {
     "end_time": "2021-04-23T12:33:57.114616Z",
     "start_time": "2021-04-23T12:33:46.845933Z"
    }
   },
   "source": [
    "### Change Types"
   ]
  },
  {
   "cell_type": "code",
   "execution_count": null,
   "id": "6b45ebad",
   "metadata": {
    "ExecuteTime": {
     "end_time": "2021-04-24T12:32:42.867087Z",
     "start_time": "2021-04-24T12:29:25.755Z"
    }
   },
   "outputs": [],
   "source": [
    "df1.dtypes"
   ]
  },
  {
   "cell_type": "code",
   "execution_count": null,
   "id": "6ae59af5",
   "metadata": {
    "ExecuteTime": {
     "end_time": "2021-04-24T12:32:42.869802Z",
     "start_time": "2021-04-24T12:29:25.982Z"
    }
   },
   "outputs": [],
   "source": [
    "df1['competition_open_since_month']=df1['competition_open_since_month'].astype(int)\n",
    "df1['competition_open_since_year']=df1['competition_open_since_year'].astype(int)\n",
    "df1['promo2_since_week']=df1['promo2_since_week'].astype(int)\n",
    "df1['promo2_since_year']=df1['promo2_since_year'].astype(int)"
   ]
  },
  {
   "cell_type": "markdown",
   "id": "620a664b",
   "metadata": {},
   "source": [
    "### Descriptive Statistical"
   ]
  },
  {
   "cell_type": "code",
   "execution_count": null,
   "id": "819d9ad7",
   "metadata": {
    "ExecuteTime": {
     "end_time": "2021-04-24T12:32:42.872200Z",
     "start_time": "2021-04-24T12:29:26.308Z"
    }
   },
   "outputs": [],
   "source": [
    "num_atributes=df1.select_dtypes(include=['int64','float64'])\n",
    "cat_atributes=df1.select_dtypes(exclude=['int64','float64','datetime64[ns]'])\n"
   ]
  },
  {
   "cell_type": "markdown",
   "id": "929c4e12",
   "metadata": {
    "ExecuteTime": {
     "end_time": "2021-04-23T13:09:10.050040Z",
     "start_time": "2021-04-23T13:09:10.044385Z"
    }
   },
   "source": [
    "#### numerical Attributes"
   ]
  },
  {
   "cell_type": "code",
   "execution_count": null,
   "id": "6d539628",
   "metadata": {
    "ExecuteTime": {
     "end_time": "2021-04-24T12:32:42.876679Z",
     "start_time": "2021-04-24T12:29:26.724Z"
    }
   },
   "outputs": [],
   "source": [
    "# central Tendency - mean, median\n",
    "ct1=pd.DataFrame(num_atributes.apply(np.mean)).T\n",
    "ct2=pd.DataFrame(num_atributes.apply(np.median)).T\n"
   ]
  },
  {
   "cell_type": "code",
   "execution_count": null,
   "id": "1466faca",
   "metadata": {
    "ExecuteTime": {
     "end_time": "2021-04-24T12:32:42.880000Z",
     "start_time": "2021-04-24T12:29:26.948Z"
    }
   },
   "outputs": [],
   "source": [
    "# Dispersion - std, min, max, range, skew, kurtosis\n",
    "d1=pd.DataFrame(num_atributes.apply(np.std)).T\n",
    "d2=pd.DataFrame(num_atributes.apply(np.min)).T\n",
    "d3=pd.DataFrame(num_atributes.apply(np.max)).T\n",
    "d4=pd.DataFrame(num_atributes.apply(lambda x: x.max()-x.min())).T\n",
    "d5=pd.DataFrame(num_atributes.apply(lambda x: x.skew())).T\n",
    "d6=pd.DataFrame(num_atributes.apply(lambda x: x.kurtosis())).T\n",
    "\n",
    " # concatenate\n",
    "m=pd.concat([d2,d3,d4,ct1,ct2,d1,d5,d6]).T.reset_index()\n",
    "m.columns=['attributes','min','max','range','mean','median','std','skew','kurtosis']\n",
    "m"
   ]
  },
  {
   "cell_type": "code",
   "execution_count": null,
   "id": "26763a92",
   "metadata": {
    "ExecuteTime": {
     "end_time": "2021-04-24T12:32:42.883226Z",
     "start_time": "2021-04-24T12:29:27.345Z"
    }
   },
   "outputs": [],
   "source": [
    "sns.set_style('white')\n",
    "sns.displot(df1['sales'], bins=40);\n"
   ]
  },
  {
   "cell_type": "code",
   "execution_count": null,
   "id": "565d64f1",
   "metadata": {},
   "outputs": [],
   "source": []
  },
  {
   "cell_type": "code",
   "execution_count": null,
   "id": "94deb3e7",
   "metadata": {},
   "outputs": [],
   "source": []
  },
  {
   "cell_type": "code",
   "execution_count": null,
   "id": "cab85520",
   "metadata": {},
   "outputs": [],
   "source": []
  }
 ],
 "metadata": {
  "hide_input": false,
  "kernelspec": {
   "display_name": "Python 3",
   "language": "python",
   "name": "python3"
  },
  "language_info": {
   "codemirror_mode": {
    "name": "ipython",
    "version": 3
   },
   "file_extension": ".py",
   "mimetype": "text/x-python",
   "name": "python",
   "nbconvert_exporter": "python",
   "pygments_lexer": "ipython3",
   "version": "3.8.0"
  },
  "toc": {
   "base_numbering": "0.0",
   "nav_menu": {},
   "number_sections": true,
   "sideBar": true,
   "skip_h1_title": false,
   "title_cell": "Table of Contents",
   "title_sidebar": "Contents",
   "toc_cell": false,
   "toc_position": {},
   "toc_section_display": true,
   "toc_window_display": true
  },
  "varInspector": {
   "cols": {
    "lenName": 16,
    "lenType": 16,
    "lenVar": 40
   },
   "kernels_config": {
    "python": {
     "delete_cmd_postfix": "",
     "delete_cmd_prefix": "del ",
     "library": "var_list.py",
     "varRefreshCmd": "print(var_dic_list())"
    },
    "r": {
     "delete_cmd_postfix": ") ",
     "delete_cmd_prefix": "rm(",
     "library": "var_list.r",
     "varRefreshCmd": "cat(var_dic_list()) "
    }
   },
   "types_to_exclude": [
    "module",
    "function",
    "builtin_function_or_method",
    "instance",
    "_Feature"
   ],
   "window_display": false
  }
 },
 "nbformat": 4,
 "nbformat_minor": 5
}
